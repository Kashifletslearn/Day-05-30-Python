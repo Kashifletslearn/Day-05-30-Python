{
  "nbformat": 4,
  "nbformat_minor": 0,
  "metadata": {
    "colab": {
      "provenance": []
    },
    "kernelspec": {
      "name": "python3",
      "display_name": "Python 3"
    },
    "language_info": {
      "name": "python"
    }
  },
  "cells": [
    {
      "cell_type": "markdown",
      "source": [
        "# Hello i am Kashif khan let's learn together\n",
        "\n",
        "1.   Github   : https://github.com/Kashifletslearn/Day-05-30-Python\n",
        "2.   Linkedin : https://www.linkedin.com/in/kashifkhank/\n",
        "3.   Gmail    : kashifdocument11@gmail.com\n",
        "\n",
        "\n",
        "\n"
      ],
      "metadata": {
        "id": "__Jx8D8lKlcU"
      }
    },
    {
      "cell_type": "markdown",
      "source": [
        "#For suggestions and improvement Email me\n"
      ],
      "metadata": {
        "id": "NSCSBEllfsLt"
      }
    },
    {
      "cell_type": "markdown",
      "metadata": {
        "id": "KjPWYK0Rs8By"
      },
      "source": [
        "## <u>Problem 1</u>\n",
        "\n",
        "###  Measure of average\n",
        "\n",
        "* Mode is defined as the value that appears most often in a set of data values. Mode corresponds to the most frequent value.\n",
        "* You are given a list of numbers and you need to calculate the mode of this list"
      ]
    },
    {
      "cell_type": "code",
      "metadata": {
        "id": "34TbaGurs8Bz"
      },
      "source": [
        "# A list containing average daily temperature over 10 days\n",
        "temperatures = [34, 40, 29, 33, 42, 40, 39, 34, 34,33 ]"
      ],
      "execution_count": null,
      "outputs": []
    },
    {
      "cell_type": "code",
      "metadata": {
        "id": "N1Yhpkiws8B3"
      },
      "source": [
        "unique_temperatures = list(set(temperatures))"
      ],
      "execution_count": null,
      "outputs": []
    },
    {
      "cell_type": "code",
      "metadata": {
        "id": "KpMdlB5Fs8B8",
        "colab": {
          "base_uri": "https://localhost:8080/",
          "height": 33
        },
        "outputId": "ee6bc059-802b-4484-a738-0a1f628aabfe"
      },
      "source": [
        "print(unique_temperatures)"
      ],
      "execution_count": null,
      "outputs": [
        {
          "output_type": "stream",
          "text": [
            "[33, 34, 39, 40, 42, 29]\n"
          ],
          "name": "stdout"
        }
      ]
    },
    {
      "cell_type": "code",
      "metadata": {
        "id": "J7CyJi_Ls8B_"
      },
      "source": [
        "# Create an empty dictionary which will contain the unique temperatures as keys and their counts as values\n",
        "temp_dict = {}\n",
        "\n",
        "# First key\n",
        "first_key = unique_temperatures[0]\n",
        "temp_dict[first_key] = temperatures.count(first_key)\n",
        "\n",
        "# Second key\n",
        "second_key = unique_temperatures[1]\n",
        "temp_dict[second_key] = temperatures.count(second_key)\n",
        "\n",
        "# Third key\n",
        "third_key = unique_temperatures[2]\n",
        "temp_dict[third_key] = temperatures.count(third_key)\n",
        "\n",
        "# Fourth key\n",
        "fourth_key = unique_temperatures[3]\n",
        "temp_dict[fourth_key] = temperatures.count(fourth_key)\n",
        "\n",
        "# Fifth key\n",
        "fifth_key = unique_temperatures[4]\n",
        "temp_dict[fifth_key] = temperatures.count(fifth_key)\n",
        "\n",
        "# Sixth key\n",
        "sixth_key = unique_temperatures[5]\n",
        "temp_dict[sixth_key] = temperatures.count(sixth_key)"
      ],
      "execution_count": null,
      "outputs": []
    },
    {
      "cell_type": "code",
      "metadata": {
        "id": "YgjOJYF2nxor",
        "colab": {
          "base_uri": "https://localhost:8080/",
          "height": 33
        },
        "outputId": "1fe518fb-393e-4e7d-b2ba-de9dd92a6bd8"
      },
      "source": [
        "print(temp_dict)"
      ],
      "execution_count": null,
      "outputs": [
        {
          "output_type": "stream",
          "text": [
            "{33: 2, 34: 3, 39: 1, 40: 2, 42: 1, 29: 1}\n"
          ],
          "name": "stdout"
        }
      ]
    },
    {
      "cell_type": "code",
      "metadata": {
        "id": "4-ZxbmMxtWfQ"
      },
      "source": [
        "#Storing the dictionary values in a list\n",
        "temp_dict_frequencies = list(temp_dict.values())\n",
        "\n",
        "# Finding the index of the most frequent temperature value\n",
        "most_frequent_temp_index = temp_dict_frequencies.index(max(temp_dict_frequencies))"
      ],
      "execution_count": null,
      "outputs": []
    },
    {
      "cell_type": "code",
      "metadata": {
        "id": "GQ79IFBE2VC4",
        "colab": {
          "base_uri": "https://localhost:8080/",
          "height": 33
        },
        "outputId": "e026e59d-69ff-4d28-a1dc-36665a1ef057"
      },
      "source": [
        "temp_dict_frequencies"
      ],
      "execution_count": null,
      "outputs": [
        {
          "output_type": "execute_result",
          "data": {
            "text/plain": [
              "[2, 3, 1, 2, 1, 1]"
            ]
          },
          "metadata": {
            "tags": []
          },
          "execution_count": 8
        }
      ]
    },
    {
      "cell_type": "code",
      "metadata": {
        "id": "7OGR--2us8CI"
      },
      "source": [
        "temp_dict_keys = list(temp_dict.keys())\n",
        "\n",
        "mode_temp = temp_dict_keys[most_frequent_temp_index]"
      ],
      "execution_count": null,
      "outputs": []
    },
    {
      "cell_type": "code",
      "metadata": {
        "id": "Cmaz9OQlow4O",
        "colab": {
          "base_uri": "https://localhost:8080/",
          "height": 33
        },
        "outputId": "641a94f6-46d4-4e64-fa45-ebbfa076d331"
      },
      "source": [
        "print(mode_temp)"
      ],
      "execution_count": null,
      "outputs": [
        {
          "output_type": "stream",
          "text": [
            "34\n"
          ],
          "name": "stdout"
        }
      ]
    },
    {
      "cell_type": "markdown",
      "metadata": {
        "id": "5qd8g8UUs8CM"
      },
      "source": [
        "## <u>Problem 2 </u>\n",
        "\n",
        "### Challenging the immutability of tuples\n",
        "\n",
        "You are given a list of tuples. You need to replace the last element of the last tuple"
      ]
    },
    {
      "cell_type": "markdown",
      "source": [
        "# Expected output : Replace the last element 70 with 100\n",
        "# output_list = [(10,20,30),(30,40,50),(50,60,100)]"
      ],
      "metadata": {
        "id": "W8FaPqbA-nfo"
      }
    },
    {
      "cell_type": "code",
      "metadata": {
        "id": "FBJy9Sq_s8CN"
      },
      "source": [
        "list_of_tuples = [(10,20,30),(30,40,50),(50,60,70)]"
      ],
      "execution_count": null,
      "outputs": []
    },
    {
      "cell_type": "code",
      "metadata": {
        "id": "UNtYax1as8CR",
        "colab": {
          "base_uri": "https://localhost:8080/",
          "height": 33
        },
        "outputId": "99c0f9df-eda2-4a51-d630-15f5e8cd56ec"
      },
      "source": [
        "last_element = list_of_tuples[-1][:-1] + (100,)   #EXPLINATION OF (100,) IS GIVEN IN NEXT CELL\n",
        "output_list = list_of_tuples[:-1]\n",
        "output_list.append(last_element)\n",
        "print(output_list)"
      ],
      "execution_count": null,
      "outputs": [
        {
          "output_type": "stream",
          "text": [
            "[(10, 20, 30), (30, 40, 50), (50, 60, 100)]\n"
          ],
          "name": "stdout"
        }
      ]
    },
    {
      "cell_type": "markdown",
      "source": [
        "# EXPLINATION OF (100,)\n",
        "\n",
        "In Python, when you put a comma after a value inside parentheses, it means you're making a tuple with just that one value. So, for example, (100,) is understood as a tuple with only one item, whereas (100) would be seen as just the number 100 by itself."
      ],
      "metadata": {
        "id": "8vuFKGnq_Isg"
      }
    }
  ]
}